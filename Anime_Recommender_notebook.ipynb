{
  "nbformat": 4,
  "nbformat_minor": 0,
  "metadata": {
    "colab": {
      "provenance": []
    },
    "kernelspec": {
      "name": "python3",
      "display_name": "Python 3"
    },
    "language_info": {
      "name": "python"
    }
  },
  "cells": [
    {
      "cell_type": "markdown",
      "source": [
        "# Building Anime Recommender systems"
      ],
      "metadata": {
        "id": "UQMcS7U7ZQHn"
      }
    },
    {
      "cell_type": "code",
      "source": [
        "# Anime Recommender System\n",
        "!pip install surprise\n",
        "\n",
        "## 1. Import Libraries\n",
        "import pandas as pd\n",
        "import numpy as np\n",
        "import matplotlib.pyplot as plt\n",
        "from sklearn.preprocessing import LabelEncoder\n",
        "from surprise import Dataset, Reader, SVD\n",
        "from surprise.model_selection import train_test_split\n",
        "from surprise import accuracy\n"
      ],
      "metadata": {
        "colab": {
          "base_uri": "https://localhost:8080/"
        },
        "id": "_8iaqd7rZVIL",
        "outputId": "811bf1a9-5f17-4b0d-86f5-2d2d4ef262ef"
      },
      "execution_count": 44,
      "outputs": [
        {
          "output_type": "stream",
          "name": "stdout",
          "text": [
            "Requirement already satisfied: surprise in /usr/local/lib/python3.10/dist-packages (0.1)\n",
            "Requirement already satisfied: scikit-surprise in /usr/local/lib/python3.10/dist-packages (from surprise) (1.1.4)\n",
            "Requirement already satisfied: joblib>=1.2.0 in /usr/local/lib/python3.10/dist-packages (from scikit-surprise->surprise) (1.4.2)\n",
            "Requirement already satisfied: numpy>=1.19.5 in /usr/local/lib/python3.10/dist-packages (from scikit-surprise->surprise) (1.26.4)\n",
            "Requirement already satisfied: scipy>=1.6.0 in /usr/local/lib/python3.10/dist-packages (from scikit-surprise->surprise) (1.13.1)\n"
          ]
        }
      ]
    },
    {
      "cell_type": "markdown",
      "source": [
        "# **Loading Dataset**"
      ],
      "metadata": {
        "id": "iMHNfgX8n2Ge"
      }
    },
    {
      "cell_type": "code",
      "source": [
        "# Load the datasets\n",
        "anime_df = pd.read_csv('anime.csv')\n",
        "train_df = pd.read_csv('train.csv')\n",
        "test_df = pd.read_csv('test.csv')\n",
        "submission_df = pd.read_csv('submission.csv')\n",
        "\n",
        "# Display the first few rows of each dataset\n",
        "print(\"Anime Dataframe:\")\n",
        "print(anime_df.head())\n",
        "\n",
        "print(\"\\nTrain Dataframe:\")\n",
        "print(train_df.head())\n",
        "\n",
        "print(\"\\nTest Dataframe:\")\n",
        "print(test_df.head())\n"
      ],
      "metadata": {
        "colab": {
          "base_uri": "https://localhost:8080/"
        },
        "id": "7fFRkEqAn5gF",
        "outputId": "b8b21a93-a415-4bf8-8408-ee19c1c13001"
      },
      "execution_count": 53,
      "outputs": [
        {
          "output_type": "stream",
          "name": "stdout",
          "text": [
            "Anime Dataframe:\n",
            "   anime_id                              name  \\\n",
            "0     32281                    Kimi no Na wa.   \n",
            "1      5114  Fullmetal Alchemist: Brotherhood   \n",
            "2     28977                          Gintama°   \n",
            "3      9253                       Steins;Gate   \n",
            "4      9969                     Gintama&#039;   \n",
            "\n",
            "                                               genre   type episodes  rating  \\\n",
            "0               Drama, Romance, School, Supernatural  Movie        1    9.37   \n",
            "1  Action, Adventure, Drama, Fantasy, Magic, Mili...     TV       64    9.26   \n",
            "2  Action, Comedy, Historical, Parody, Samurai, S...     TV       51    9.25   \n",
            "3                                   Sci-Fi, Thriller     TV       24    9.17   \n",
            "4  Action, Comedy, Historical, Parody, Samurai, S...     TV       51    9.16   \n",
            "\n",
            "   members  \n",
            "0   200630  \n",
            "1   793665  \n",
            "2   114262  \n",
            "3   673572  \n",
            "4   151266  \n",
            "\n",
            "Train Dataframe:\n",
            "   user_id  anime_id  rating\n",
            "0        1     11617      10\n",
            "1        1     11757      10\n",
            "2        1     15451      10\n",
            "3        2     11771      10\n",
            "4        3        20       8\n",
            "\n",
            "Test Dataframe:\n",
            "   user_id  anime_id\n",
            "0    40763     21405\n",
            "1    68791     10504\n",
            "2    40487      1281\n",
            "3    55290       165\n",
            "4    72323     11111\n"
          ]
        }
      ]
    },
    {
      "cell_type": "markdown",
      "source": [
        "# **Data Preprocessing**"
      ],
      "metadata": {
        "id": "EBlwXQBIn_Yg"
      }
    },
    {
      "cell_type": "code",
      "source": [
        "# Convert categorical 'type' column to numerical\n",
        "label_encoder = LabelEncoder()\n",
        "anime_df['type'] = label_encoder.fit_transform(anime_df['type'])\n",
        "\n",
        "# Check for missing values\n",
        "print(\"\\nMissing values in Anime Dataframe:\")\n",
        "print(anime_df.isnull().sum())\n",
        "\n",
        "print(\"\\nMissing values in Train Dataframe:\")\n",
        "print(train_df.isnull().sum())\n",
        "\n",
        "# Remove rows with missing ratings in the train dataset\n",
        "train_df = train_df[train_df['rating'] != -1]\n"
      ],
      "metadata": {
        "colab": {
          "base_uri": "https://localhost:8080/"
        },
        "id": "c1xZtV_3oJJP",
        "outputId": "fd46a247-44ee-41fb-f0aa-839c59411edc"
      },
      "execution_count": 54,
      "outputs": [
        {
          "output_type": "stream",
          "name": "stdout",
          "text": [
            "\n",
            "Missing values in Anime Dataframe:\n",
            "anime_id      0\n",
            "name          0\n",
            "genre        62\n",
            "type          0\n",
            "episodes      0\n",
            "rating      230\n",
            "members       0\n",
            "dtype: int64\n",
            "\n",
            "Missing values in Train Dataframe:\n",
            "user_id     0\n",
            "anime_id    0\n",
            "rating      0\n",
            "dtype: int64\n"
          ]
        }
      ]
    },
    {
      "cell_type": "markdown",
      "source": [
        "# **Exploratory Data Analysis**"
      ],
      "metadata": {
        "id": "a0Ov6f-moVmm"
      }
    },
    {
      "cell_type": "code",
      "source": [
        "# Plot distribution of ratings\n",
        "plt.figure(figsize=(10, 6))\n",
        "plt.hist(train_df['rating'].dropna(), bins=10, edgecolor='k', alpha=0.7)\n",
        "plt.title('Distribution of Ratings')\n",
        "plt.xlabel('Rating')\n",
        "plt.ylabel('Frequency')\n",
        "plt.grid(True)\n",
        "plt.show()\n"
      ],
      "metadata": {
        "colab": {
          "base_uri": "https://localhost:8080/",
          "height": 564
        },
        "id": "Ao0tb4cyoaHG",
        "outputId": "a17c782a-63c9-436b-d374-41ab2b86d6fd"
      },
      "execution_count": 55,
      "outputs": [
        {
          "output_type": "display_data",
          "data": {
            "text/plain": [
              "<Figure size 1000x600 with 1 Axes>"
            ],
            "image/png": "[encoded data removed]"
          },
          "metadata": {}
        }
      ]
    },
    {
      "cell_type": "markdown",
      "source": [
        "# **Prepare Data for Surprise**"
      ],
      "metadata": {
        "id": "ZBwX970kog1t"
      }
    },
    {
      "cell_type": "code",
      "source": [
        "# Define a reader and load the dataset\n",
        "reader = Reader(rating_scale=(0, 10))\n",
        "data = Dataset.load_from_df(train_df[['user_id', 'anime_id', 'rating']], reader)\n",
        "\n",
        "# Split the data into training and test sets\n",
        "trainset, testset = train_test_split(data, test_size=0.2)\n"
      ],
      "metadata": {
        "id": "JTvLz9ZxolMw"
      },
      "execution_count": 56,
      "outputs": []
    },
    {
      "cell_type": "markdown",
      "source": [
        "# **Train the model**"
      ],
      "metadata": {
        "id": "YHxcWsykowD4"
      }
    },
    {
      "cell_type": "code",
      "source": [
        "# Train the model using SVD\n",
        "model = SVD()\n",
        "model.fit(trainset)\n"
      ],
      "metadata": {
        "colab": {
          "base_uri": "https://localhost:8080/"
        },
        "id": "7NpJ3eSBozhf",
        "outputId": "9ccfd6d0-6d94-4331-b5ca-a0ae7faa0c58"
      },
      "execution_count": 57,
      "outputs": [
        {
          "output_type": "execute_result",
          "data": {
            "text/plain": [
              "<surprise.prediction_algorithms.matrix_factorization.SVD at 0x7d97c65bbeb0>"
            ]
          },
          "metadata": {},
          "execution_count": 57
        }
      ]
    },
    {
      "cell_type": "markdown",
      "source": [
        "# **Evaluate the model**"
      ],
      "metadata": {
        "id": "Qwtqb4Zmtt2X"
      }
    },
    {
      "cell_type": "code",
      "source": [
        "from surprise import Dataset, Reader, SVD\n",
        "from surprise.model_selection import train_test_split, cross_validate\n",
        "from surprise import accuracy\n",
        "\n",
        "# Define Reader\n",
        "reader = Reader(line_format='user item rating timestamp', sep=',')\n",
        "\n",
        "# Load data\n",
        "data = Dataset.load_from_df(train_df[['user_id', 'anime_id', 'rating']], reader)\n",
        "\n",
        "# Split data into train and test sets\n",
        "trainset, testset = train_test_split(data, test_size=0.25)  # Adjust test_size as needed\n",
        "\n",
        "# Train your model\n",
        "model = SVD()  # Example: SVD algorithm\n",
        "model.fit(trainset)\n",
        "\n",
        "# Generate test set for predictions\n",
        "testset_for_predictions = [(uid, iid, None) for uid, iid in zip(test_df['user_id'], test_df['anime_id'])]\n",
        "predictions = model.test(testset_for_predictions)\n",
        "\n",
        "# Evaluate model using cross-validation\n",
        "cross_validate_results = cross_validate(model, data, measures=['RMSE', 'MAE'], cv=5, verbose=True)\n",
        "\n",
        "print(\"Model evaluation results:\")\n",
        "print(f\"Mean RMSE: {cross_validate_results['test_rmse'].mean()}\")\n",
        "print(f\"Mean MAE: {cross_validate_results['test_mae'].mean()}\")\n"
      ],
      "metadata": {
        "colab": {
          "base_uri": "https://localhost:8080/"
        },
        "id": "RqK6qJ2wtpNl",
        "outputId": "6e52db7f-609e-4f82-bea4-02d8be0fc677"
      },
      "execution_count": 64,
      "outputs": [
        {
          "output_type": "stream",
          "name": "stdout",
          "text": [
            "Evaluating RMSE, MAE of algorithm SVD on 5 split(s).\n",
            "\n",
            "                  Fold 1  Fold 2  Fold 3  Fold 4  Fold 5  Mean    Std     \n",
            "RMSE (testset)    3.2144  3.2175  3.2157  3.2171  3.2170  3.2163  0.0011  \n",
            "MAE (testset)     2.9057  2.9084  2.9066  2.9075  2.9083  2.9073  0.0010  \n",
            "Fit time          104.92  111.41  110.91  110.66  119.48  111.48  4.65    \n",
            "Test time         29.83   30.04   22.84   23.90   27.70   26.86   2.98    \n",
            "Model evaluation results:\n",
            "Mean RMSE: 3.216328050253157\n",
            "Mean MAE: 2.9073110564002365\n"
          ]
        }
      ]
    },
    {
      "cell_type": "markdown",
      "source": [
        "# **Generate prediction for the test set**"
      ],
      "metadata": {
        "id": "4mA7OA4lpbXf"
      }
    },
    {
      "cell_type": "code",
      "source": [
        "# Predict ratings for the test set\n",
        "# Prepare the test set with a dummy r_ui value\n",
        "testset = [(uid, iid, None) for uid, iid in zip(test_df['user_id'], test_df['anime_id'])]\n",
        "predictions = model.test(testset)\n",
        "\n",
        "\n",
        "# Prepare the submission\n",
        "submission_df = pd.DataFrame({\n",
        "    'ID': [f\"{pred.uid}_{pred.iid}\" for pred in predictions],\n",
        "    'rating': [pred.est for pred in predictions]\n",
        "})\n",
        "\n",
        "# Save the submission file\n",
        "submission_df.to_csv('submission.csv', index=False)\n",
        "print(\"\\nSubmission file created successfully.\")\n"
      ],
      "metadata": {
        "colab": {
          "base_uri": "https://localhost:8080/"
        },
        "id": "pZHeISHsrjcm",
        "outputId": "c9c85a88-402b-4451-992d-0c8c5c75cced"
      },
      "execution_count": 59,
      "outputs": [
        {
          "output_type": "stream",
          "name": "stdout",
          "text": [
            "\n",
            "Submission file created successfully.\n"
          ]
        }
      ]
    }
  ]
}